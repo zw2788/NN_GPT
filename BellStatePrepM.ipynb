{
 "cells": [
  {
   "cell_type": "code",
   "execution_count": 34,
   "id": "6f995761-1f98-43f4-a611-b9d5e1318047",
   "metadata": {},
   "outputs": [
    {
     "name": "stdout",
     "output_type": "stream",
     "text": [
      "measure in delta is 0, average vec is [[0.488]\n",
      " [0.   ]\n",
      " [0.   ]\n",
      " [0.512]]\n",
      "measure in delta is 1.5707963267948966, average vec is [[0.   ]\n",
      " [0.505]\n",
      " [0.495]\n",
      " [0.   ]]\n"
     ]
    }
   ],
   "source": [
    "import numpy as np\n",
    "\n",
    "def generate_onebit_prep():\n",
    "    return np.array([[1], [0]])\n",
    "\n",
    "def generate_onebit_flipprep():\n",
    "    return np.array([[0], [1]])\n",
    "\n",
    "def generate_twobit(state1, state2):\n",
    "    return np.kron(state1, state2)\n",
    "\n",
    "def prob_plus(delta):\n",
    "    return (np.cos(2*(delta))+1)/4\n",
    "\n",
    "# preparation angle for Bell state\n",
    "theta_list = [np.pi/4]\n",
    "\n",
    "# angle difference between Alice and Bob's measurement bases\n",
    "delta_list = [0, np.pi/2]\n",
    "\n",
    "\n",
    "vectors = [] \n",
    "\n",
    "plus_one = generate_onebit_prep()\n",
    "minus_one = generate_onebit_flipprep()\n",
    "\n",
    "for theta in theta_list:\n",
    "    for delta in delta_list:\n",
    "        vec_tem= []\n",
    "        for i in range(0,1000):\n",
    "            random_number1 = np.random.rand()\n",
    "            random_number2 = np.random.rand()\n",
    "            if random_number1 <= 2*prob_plus(delta):\n",
    "                if random_number1 <= prob_plus(delta):\n",
    "                    vec = generate_twobit(plus_one, plus_one)\n",
    "                    vec_tem.append(vec)\n",
    "                else:\n",
    "                    vec = generate_twobit(minus_one, minus_one)\n",
    "                    vec_tem.append(vec)\n",
    "            else:\n",
    "                if random_number2 >= (1-2*prob_plus(delta))/2:\n",
    "                    vec2 = generate_twobit(plus_one, minus_one)\n",
    "                    vec_tem.append(vec2)\n",
    "                else:\n",
    "                    vec2 = generate_twobit(minus_one, plus_one)\n",
    "                    vec_tem.append(vec2)\n",
    "        average_vec = np.mean(vec_tem, axis=0)\n",
    "        print(\"measure in delta is {}, average vec is {}\".format(delta, average_vec))\n",
    "\n",
    "\n"
   ]
  },
  {
   "cell_type": "markdown",
   "id": "0b700e27-d6cb-4d64-8377-68b4323efe0d",
   "metadata": {},
   "source": [
    "## CHSH Value Calculation"
   ]
  },
  {
   "cell_type": "code",
   "execution_count": 35,
   "id": "327f13a4-154f-484b-a476-b19537d1df33",
   "metadata": {},
   "outputs": [
    {
     "name": "stdout",
     "output_type": "stream",
     "text": [
      "measure in delta is -0.39269908169872414, average vec is [[0.4274]\n",
      " [0.1398]\n",
      " [0.    ]\n",
      " [0.4328]]\n",
      "E_delta1 is [0.7204]\n",
      "measure in delta is 0.39269908169872414, average vec is [[0.4209]\n",
      " [0.1468]\n",
      " [0.    ]\n",
      " [0.4323]]\n",
      "E_delta2 is [0.7064]\n",
      "measure in delta is 0.39269908169872414, average vec is [[0.4288]\n",
      " [0.1485]\n",
      " [0.    ]\n",
      " [0.4227]]\n",
      "E_delta3 is [0.703]\n",
      "measure in delta is 1.1780972450961724, average vec is [[0.0749]\n",
      " [0.8528]\n",
      " [0.    ]\n",
      " [0.0723]]\n",
      "E_delta4 is [-0.7056]\n",
      "CHSH value: [2.8354]\n",
      "CHSH <= 2?, [False]\n"
     ]
    }
   ],
   "source": [
    "import numpy as np\n",
    "\n",
    "theta_list = [np.pi/4]\n",
    "delta_set= [-np.pi/8, np.pi/8, np.pi/8, 3*np.pi/8]\n",
    "\n",
    "E_set = []\n",
    "for theta in theta_list:\n",
    "    for idx, delta in enumerate(delta_set, start = 1):\n",
    "        vec_tem= []\n",
    "        for i in range(0,10000):\n",
    "            random_number1 = np.random.rand()\n",
    "            if random_number1 <= 2*prob_plus(delta):\n",
    "                if random_number1 <= prob_plus(delta):\n",
    "                    vec = generate_twobit(plus_one, plus_one)\n",
    "                    vec_tem.append(vec)\n",
    "                else:\n",
    "                    vec = generate_twobit(minus_one, minus_one)\n",
    "                    vec_tem.append(vec)\n",
    "            else:\n",
    "                if random_number2 >= (1-2*prob_plus(delta))/2:\n",
    "                    vec2 = generate_twobit(plus_one, minus_one)\n",
    "                    vec_tem.append(vec2)\n",
    "                else:\n",
    "                    vec2 = generate_twobit(minus_one, plus_one)\n",
    "                    vec_tem.append(vec2)\n",
    "        average_vec = np.mean(vec_tem, axis=0)\n",
    "        print(\"measure in delta is {}, average vec is {}\".format(delta, average_vec))\n",
    "        Exp = average_vec[0]+ average_vec[3]-average_vec[1]-average_vec[2]\n",
    "        E_set.append(Exp)\n",
    "        print(\"E_delta{} is {}\".format(idx, Exp))\n",
    "        \n",
    "\n",
    "\n",
    "\n",
    "# CHSH\n",
    "CHSH = np.abs(E_set[0] + E_set[1] + E_set[2] - E_set[3])\n",
    "print(\"CHSH value:\", CHSH)\n",
    "print(\"CHSH <= 2?, {}\".format(CHSH<=2))\n",
    "\n"
   ]
  }
 ],
 "metadata": {
  "kernelspec": {
   "display_name": "Python 3 (ipykernel)",
   "language": "python",
   "name": "python3"
  },
  "language_info": {
   "codemirror_mode": {
    "name": "ipython",
    "version": 3
   },
   "file_extension": ".py",
   "mimetype": "text/x-python",
   "name": "python",
   "nbconvert_exporter": "python",
   "pygments_lexer": "ipython3",
   "version": "3.11.5"
  }
 },
 "nbformat": 4,
 "nbformat_minor": 5
}
