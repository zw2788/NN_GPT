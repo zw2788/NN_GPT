{
 "cells": [
  {
   "cell_type": "code",
   "execution_count": 2,
   "id": "10b800f0-abcc-4ea3-a33e-9e28b9927c12",
   "metadata": {},
   "outputs": [
    {
     "name": "stdout",
     "output_type": "stream",
     "text": [
      "theta is 0, measure in phi is 0, average vec is [[1.]\n",
      " [0.]]\n",
      "theta is 0, measure in phi is 0.7853981633974483, average vec is [[0.5]\n",
      " [0.5]]\n",
      "theta is 1.5707963267948966, measure in phi is 0, average vec is [[0.]\n",
      " [1.]]\n",
      "theta is 1.5707963267948966, measure in phi is 0.7853981633974483, average vec is [[0.54]\n",
      " [0.46]]\n",
      "theta is 0.7853981633974483, measure in phi is 0, average vec is [[0.52]\n",
      " [0.48]]\n",
      "theta is 0.7853981633974483, measure in phi is 0.7853981633974483, average vec is [[1.]\n",
      " [0.]]\n",
      "theta is 2.356194490192345, measure in phi is 0, average vec is [[0.62]\n",
      " [0.38]]\n",
      "theta is 2.356194490192345, measure in phi is 0.7853981633974483, average vec is [[0.]\n",
      " [1.]]\n"
     ]
    }
   ],
   "source": [
    "import numpy as np\n",
    "\n",
    "def generate_prep():\n",
    "    return np.array([[1], [0]])\n",
    "\n",
    "def generate_flipprep():\n",
    "    return np.array([[0], [1]])\n",
    "\n",
    "def prob_plus(theta, phi):\n",
    "    return (np.cos(2*(phi-theta))+1)/2\n",
    "\n",
    "theta_list = [0, np.pi/2, np.pi/4, 3*np.pi/4]\n",
    "phi_list = [0, np.pi/4]\n",
    "\n",
    "vectors = [] \n",
    "\n",
    "for theta in theta_list:\n",
    "    for phi in phi_list:\n",
    "        vec_tem= []\n",
    "        for i in range(0,50):\n",
    "            random_number = np.random.rand()\n",
    "            if random_number <= prob_plus(theta, phi):            \n",
    "                vec = generate_prep()\n",
    "                vec_tem.append(vec)\n",
    "            else:               \n",
    "                vec2 = generate_flipprep()\n",
    "                vec_tem.append(vec2)\n",
    "        average_vec = np.mean(vec_tem, axis=0)\n",
    "        print(\"theta is {}, measure in phi is {}, average vec is {}\".format(theta, phi, average_vec))\n",
    "        \n",
    "                \n"
   ]
  }
 ],
 "metadata": {
  "kernelspec": {
   "display_name": "Python 3 (ipykernel)",
   "language": "python",
   "name": "python3"
  },
  "language_info": {
   "codemirror_mode": {
    "name": "ipython",
    "version": 3
   },
   "file_extension": ".py",
   "mimetype": "text/x-python",
   "name": "python",
   "nbconvert_exporter": "python",
   "pygments_lexer": "ipython3",
   "version": "3.11.5"
  }
 },
 "nbformat": 4,
 "nbformat_minor": 5
}
